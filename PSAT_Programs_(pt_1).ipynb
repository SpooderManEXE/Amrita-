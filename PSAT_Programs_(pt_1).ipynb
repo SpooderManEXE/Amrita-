{
  "nbformat": 4,
  "nbformat_minor": 0,
  "metadata": {
    "colab": {
      "name": "PSAT Programs (pt. 1).ipynb",
      "provenance": [],
      "collapsed_sections": [],
      "include_colab_link": true
    },
    "kernelspec": {
      "display_name": "Python 3",
      "name": "python3"
    },
    "language_info": {
      "name": "python"
    }
  },
  "cells": [
    {
      "cell_type": "markdown",
      "metadata": {
        "id": "view-in-github",
        "colab_type": "text"
      },
      "source": [
        "<a href=\"https://colab.research.google.com/github/StuntStorm/Amrita-/blob/main/PSAT_Programs_(pt_1).ipynb\" target=\"_parent\"><img src=\"https://colab.research.google.com/assets/colab-badge.svg\" alt=\"Open In Colab\"/></a>"
      ]
    },
    {
      "cell_type": "code",
      "metadata": {
        "colab": {
          "base_uri": "https://localhost:8080/"
        },
        "id": "96PJ5YFcmEH6",
        "outputId": "ddd4892a-9eae-4e00-cbd4-6e4becf450b3"
      },
      "source": [
        "print(\"hello\")\n",
        "print(\"hello\",\"world\",sep='---')\n",
        "print(\"hello\",\"world\",sep=\"\\n\")\n",
        "print(\"--------------------------------------------------------------------\")\n",
        "print(\"                     MAIN NOTES STARTING FROM HERE                  \")\n",
        "print(\"--------------------------------------------------------------------\")"
      ],
      "execution_count": 11,
      "outputs": [
        {
          "output_type": "stream",
          "name": "stdout",
          "text": [
            "hello\n",
            "hello---world\n",
            "hello\n",
            "world\n",
            "--------------------------------------------------------------------\n",
            "                     MAIN NOTES STARTING FROM HERE                  \n",
            "--------------------------------------------------------------------\n"
          ]
        }
      ]
    },
    {
      "cell_type": "markdown",
      "metadata": {
        "id": "NfGmcaxC4Hi-"
      },
      "source": [
        "Comparison Operators \n",
        "\n",
        " \n",
        "\n",
        "Comparison operators return a boolean value True or False depending on whether comparison succeeded or not. The Comparison operators include == (equality), < (less than), <= (less thn or equal to), > (greater than), >= (greater than or equal to), != (not equal) \n",
        "\n",
        " \n",
        "\n",
        "Note: = is assignment operator. == is equality comparison operator. "
      ]
    },
    {
      "cell_type": "code",
      "metadata": {
        "colab": {
          "base_uri": "https://localhost:8080/"
        },
        "id": "9oETBTrX4MUI",
        "outputId": "e8c8d508-a87d-4b27-b2bb-43b39de52bf3"
      },
      "source": [
        "a,b = 5,2\n",
        "\n",
        "print(a > b)\n",
        "print(a < b)\n",
        "print(a >= b)\n",
        "print(a <= b)\n",
        "print(a == b)\n",
        "print(a != b)"
      ],
      "execution_count": null,
      "outputs": [
        {
          "output_type": "stream",
          "name": "stdout",
          "text": [
            "True\n",
            "False\n",
            "True\n",
            "False\n",
            "False\n",
            "True\n"
          ]
        }
      ]
    },
    {
      "cell_type": "code",
      "metadata": {
        "colab": {
          "base_uri": "https://localhost:8080/"
        },
        "id": "RJBNq4sS4zpy",
        "outputId": "0898ef94-29e6-4222-b18c-ec1af89c761e"
      },
      "source": [
        "x, y, z = 2, 10, 7\n",
        "\n",
        "print(x < y and y < z) #Should print false since y is not less than z\n",
        "print(x < y or y < z) #Should print true since x is less than y\n",
        "print(not x < y) #Should print false since x < y is true and opposite of it is false\n",
        "print(x < y and not y < z) #Should print true since y < y and y >= z"
      ],
      "execution_count": null,
      "outputs": [
        {
          "output_type": "stream",
          "name": "stdout",
          "text": [
            "False\n",
            "True\n",
            "False\n",
            "True\n"
          ]
        }
      ]
    },
    {
      "cell_type": "markdown",
      "metadata": {
        "id": "9k6GGHlg9xSB"
      },
      "source": [
        "check if th enumber is greater or lesser than\n"
      ]
    },
    {
      "cell_type": "code",
      "metadata": {
        "colab": {
          "base_uri": "https://localhost:8080/"
        },
        "id": "N3lszHEB6X1X",
        "outputId": "bd476921-dfd1-4946-a340-53b591c8bdc5"
      },
      "source": [
        "x = int(input())\n",
        "y = int(input())\n",
        "if x < y :\n",
        "  print(x, \"is less than\", y)\n",
        "else:\n",
        "  print(y,\"is less than\", x)\n"
      ],
      "execution_count": null,
      "outputs": [
        {
          "output_type": "stream",
          "name": "stdout",
          "text": [
            "1\n",
            "10\n",
            "1 is less than 10\n"
          ]
        }
      ]
    },
    {
      "cell_type": "markdown",
      "metadata": {
        "id": "omoNNHWl9uvg"
      },
      "source": [
        "check if the number is odd or even\n"
      ]
    },
    {
      "cell_type": "code",
      "metadata": {
        "colab": {
          "base_uri": "https://localhost:8080/"
        },
        "id": "YJcRuxDm8N3H",
        "outputId": "5d5e8938-7a24-40cc-d995-dbe52c3c19ee"
      },
      "source": [
        "a = int(input())\n",
        "if a%2 == 0:\n",
        "  print(\"The Number is even!\")\n",
        "else:\n",
        "  print(\"The Nunber is Odd!\")"
      ],
      "execution_count": null,
      "outputs": [
        {
          "output_type": "stream",
          "name": "stdout",
          "text": [
            "7\n",
            "The Nunber is Odd!\n"
          ]
        }
      ]
    },
    {
      "cell_type": "markdown",
      "metadata": {
        "id": "lb0j_eUa9kDG"
      },
      "source": [
        "check the entered number is positive, negative or zero"
      ]
    },
    {
      "cell_type": "code",
      "metadata": {
        "colab": {
          "base_uri": "https://localhost:8080/"
        },
        "id": "qZkE-84J90UA",
        "outputId": "7c0f186d-7420-4adf-dd65-5231b4c12b66"
      },
      "source": [
        "a = int(input())\n",
        "if a>0:\n",
        "  print(\"Entered Number is Positive!\")\n",
        "elif a<0:\n",
        "  print(\"Entered Number is negative!\")\n",
        "else:\n",
        "  print(\"Entered Number is Zero\")"
      ],
      "execution_count": null,
      "outputs": [
        {
          "output_type": "stream",
          "name": "stdout",
          "text": [
            "6\n",
            "Entered Number is Positive!\n"
          ]
        }
      ]
    },
    {
      "cell_type": "markdown",
      "metadata": {
        "id": "mcL6geQQ_iA3"
      },
      "source": [
        "Read Two Numbers Check if both are odd"
      ]
    },
    {
      "cell_type": "code",
      "metadata": {
        "id": "HsW_yNHiAA0z",
        "colab": {
          "base_uri": "https://localhost:8080/"
        },
        "outputId": "96152bcb-fb42-47f9-ec7b-4a29472370cb"
      },
      "source": [
        "a = int(input())\n",
        "b = int(input())\n",
        "if a%2!=0 and b%2!=10:\n",
        "  print(\"Both are odd!\")\n",
        "else:\n",
        "  print(\"Both are not odd!\")\n"
      ],
      "execution_count": null,
      "outputs": [
        {
          "output_type": "stream",
          "name": "stdout",
          "text": [
            "3\n",
            "5\n",
            "Both are odd!\n"
          ]
        }
      ]
    },
    {
      "cell_type": "markdown",
      "metadata": {
        "id": "Dii-EFgMAn9L"
      },
      "source": [
        "To Check if sum of two numbers is even or odd"
      ]
    },
    {
      "cell_type": "code",
      "metadata": {
        "colab": {
          "base_uri": "https://localhost:8080/"
        },
        "id": "1F8rg0AuCNJn",
        "outputId": "413063e5-d4fc-47c3-9ac6-0e61f48937a4"
      },
      "source": [
        "a = int(input())\n",
        "b = int(input())\n",
        "c= a+b\n",
        "if c%2==0:\n",
        "  print(\"The Sum of 2 numbers are Even!\")\n",
        "else:\n",
        "  print(\"The Sum of 2 numbers are Odd!\")"
      ],
      "execution_count": 3,
      "outputs": [
        {
          "output_type": "stream",
          "name": "stdout",
          "text": [
            "1\n",
            "1\n",
            "The Sum of 2 numbers are Even!\n"
          ]
        }
      ]
    },
    {
      "cell_type": "markdown",
      "metadata": {
        "id": "shJ2JmXBC1wW"
      },
      "source": [
        "To Check if the numbers are divisible by 10"
      ]
    },
    {
      "cell_type": "code",
      "metadata": {
        "colab": {
          "base_uri": "https://localhost:8080/"
        },
        "id": "AqFl_-ByC3Bn",
        "outputId": "e391255b-214a-49b3-8977-6913db5f96a3"
      },
      "source": [
        "a = int(input())\n",
        "if a%10==0:\n",
        "  print(\"Yes,\",a,\"is divisible by 10!\")\n",
        "else:\n",
        "  print(\"No,\",a,\"is not divisible by 10!\")"
      ],
      "execution_count": 9,
      "outputs": [
        {
          "output_type": "stream",
          "name": "stdout",
          "text": [
            "20\n",
            "Yes, 20 is divisible by 10!\n"
          ]
        }
      ]
    }
  ]
}