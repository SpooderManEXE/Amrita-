{
  "nbformat": 4,
  "nbformat_minor": 0,
  "metadata": {
    "colab": {
      "name": "EXAM.ipynb",
      "provenance": [],
      "authorship_tag": "ABX9TyMCWHZL+Zqm2xVDeArNHE8l",
      "include_colab_link": true
    },
    "kernelspec": {
      "name": "python3",
      "display_name": "Python 3"
    },
    "language_info": {
      "name": "python"
    }
  },
  "cells": [
    {
      "cell_type": "markdown",
      "metadata": {
        "id": "view-in-github",
        "colab_type": "text"
      },
      "source": [
        "<a href=\"https://colab.research.google.com/github/StuntStorm/Amrita-/blob/main/EXAM.ipynb\" target=\"_parent\"><img src=\"https://colab.research.google.com/assets/colab-badge.svg\" alt=\"Open In Colab\"/></a>"
      ]
    },
    {
      "cell_type": "markdown",
      "metadata": {
        "id": "wgvQQSPzwRyN"
      },
      "source": [
        "1. Print the Odd numbers in descending order upto n\n"
      ]
    },
    {
      "cell_type": "code",
      "metadata": {
        "colab": {
          "base_uri": "https://localhost:8080/"
        },
        "id": "hPy0jfrlwmWt",
        "outputId": "a82b230a-ca61-4757-cf1e-8ff1ad29b7f5"
      },
      "source": [
        "n=int(input())\n",
        "for i in range(n,0,-1):\n",
        "  if i%2!=0:\n",
        "    print(i,end=\", \")\n",
        "  else:\n",
        "    continue\n",
        "\n"
      ],
      "execution_count": 61,
      "outputs": [
        {
          "output_type": "stream",
          "name": "stdout",
          "text": [
            "20\n",
            "19, 17, 15, 13, 11, 9, 7, 5, 3, 1, "
          ]
        }
      ]
    },
    {
      "cell_type": "markdown",
      "metadata": {
        "id": "r9aEez7ywKTP"
      },
      "source": [
        "2. Print the Fibnocci series upto n"
      ]
    },
    {
      "cell_type": "code",
      "metadata": {
        "colab": {
          "base_uri": "https://localhost:8080/"
        },
        "id": "3Y5MXcJcvxil",
        "outputId": "345469f6-2b8c-4836-be4f-16e20599224c"
      },
      "source": [
        "n = int(input())\n",
        "fb = [1,1]\n",
        "\n",
        "if n>2:\n",
        "\tfor i in range(2, n):\n",
        "\t\te = fb[i-1] + fb[i-2]\n",
        "\t\tfb.append(e)\n",
        "print(fb)"
      ],
      "execution_count": 5,
      "outputs": [
        {
          "output_type": "stream",
          "name": "stdout",
          "text": [
            "10\n",
            "[1, 1, 2, 3, 5, 8, 13, 21, 34, 55]\n"
          ]
        }
      ]
    },
    {
      "cell_type": "markdown",
      "metadata": {
        "id": "qSTWbQIfxzVl"
      },
      "source": [
        "3. Print the Second Largest number of the given 3 numbers"
      ]
    },
    {
      "cell_type": "code",
      "metadata": {
        "colab": {
          "base_uri": "https://localhost:8080/"
        },
        "id": "PwYjnUYS1kEh",
        "outputId": "e7ed61a1-a163-4789-ecbe-c770bda5e634"
      },
      "source": [
        "n=list(map(int,input().split()))\n",
        "n.sort()\n",
        "print(n[1])"
      ],
      "execution_count": 62,
      "outputs": [
        {
          "output_type": "stream",
          "name": "stdout",
          "text": [
            "10 5 29\n",
            "10\n"
          ]
        }
      ]
    },
    {
      "cell_type": "markdown",
      "metadata": {
        "id": "DWlDuW5h1n3l"
      },
      "source": [
        "OR"
      ]
    },
    {
      "cell_type": "code",
      "metadata": {
        "colab": {
          "base_uri": "https://localhost:8080/"
        },
        "id": "JpLC06iax4S1",
        "outputId": "7c4238cc-f503-4424-d988-e15ecd49cd9d"
      },
      "source": [
        "a,b,c = map(int,input().split())\n",
        "if (a >= b and a >= c):\n",
        "  if(b >= c):\n",
        "    print(b)\n",
        "  else:\n",
        "    print(c)\n",
        "elif(b >= a and b >= c):\n",
        "  if(a >= c):\n",
        "    print(a)\n",
        "  else:\n",
        "    print(c)\n",
        "elif(a >= b):\n",
        "  print(a)\n",
        "else:\n",
        "  print(b)\n"
      ],
      "execution_count": 65,
      "outputs": [
        {
          "output_type": "stream",
          "name": "stdout",
          "text": [
            "500 100 80\n",
            "100\n"
          ]
        }
      ]
    }
  ]
}