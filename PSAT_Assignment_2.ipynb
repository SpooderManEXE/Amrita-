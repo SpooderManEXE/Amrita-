{
  "nbformat": 4,
  "nbformat_minor": 0,
  "metadata": {
    "colab": {
      "name": "Assignment 2.ipynb",
      "provenance": [],
      "authorship_tag": "ABX9TyMEC4DfwIE4eVcOSckWRuZ4",
      "include_colab_link": true
    },
    "kernelspec": {
      "name": "python3",
      "display_name": "Python 3"
    },
    "language_info": {
      "name": "python"
    }
  },
  "cells": [
    {
      "cell_type": "markdown",
      "metadata": {
        "id": "view-in-github",
        "colab_type": "text"
      },
      "source": [
        "<a href=\"https://colab.research.google.com/github/StuntStorm/Amrita-/blob/main/PSAT_Assignment_2.ipynb\" target=\"_parent\"><img src=\"https://colab.research.google.com/assets/colab-badge.svg\" alt=\"Open In Colab\"/></a>"
      ]
    },
    {
      "cell_type": "markdown",
      "metadata": {
        "id": "bhWDVgZz5yuG"
      },
      "source": [
        "Watermelon"
      ]
    },
    {
      "cell_type": "code",
      "metadata": {
        "colab": {
          "base_uri": "https://localhost:8080/"
        },
        "id": "--RYrum85v3a",
        "outputId": "be451bea-7421-4daa-8d7b-11edac55fc2b"
      },
      "source": [
        "w = int(input(\"\"))\n",
        "if 1<=w<=100:\n",
        "  if w%2==0 and w>2:\n",
        "    print(\"YES\")\n",
        "  else:\n",
        "    print(\"NO\")\n",
        "else:\n",
        "  print(\"\")"
      ],
      "execution_count": null,
      "outputs": [
        {
          "output_type": "stream",
          "name": "stdout",
          "text": [
            "8\n",
            "YES\n"
          ]
        }
      ]
    },
    {
      "cell_type": "markdown",
      "metadata": {
        "id": "fHc4zcZI6FTN"
      },
      "source": [
        "Triangle"
      ]
    },
    {
      "cell_type": "code",
      "metadata": {
        "colab": {
          "base_uri": "https://localhost:8080/"
        },
        "id": "vrozTpmT6IDK",
        "outputId": "e38d1e32-ab92-4bc8-faf9-b876c1a2d8d6"
      },
      "source": [
        "def checktriangle(a,b,c):\n",
        "    if a+b > c and b+c > a and a+c > b:\n",
        "        return True\n",
        "    else:\n",
        "        return False\n",
        "\n",
        "a,b,c=map(int,input().split())\n",
        "s=0\n",
        "while not checktriangle(a,b,c):\n",
        "    s +=1\n",
        "    if min(a,b,c)==a:\n",
        "        a+=1\n",
        "    elif min(a,b,c)==b:\n",
        "        b+=1\n",
        "    elif min(a,b,c)==c:\n",
        "        c+=1\n",
        "print(s)"
      ],
      "execution_count": null,
      "outputs": [
        {
          "output_type": "stream",
          "name": "stdout",
          "text": [
            "3 4 5\n",
            "0\n"
          ]
        }
      ]
    },
    {
      "cell_type": "markdown",
      "metadata": {
        "id": "xpmentTc6IZc"
      },
      "source": [
        "Domino Pilling"
      ]
    },
    {
      "cell_type": "code",
      "metadata": {
        "colab": {
          "base_uri": "https://localhost:8080/"
        },
        "id": "Gf1zJ2L66Lae",
        "outputId": "be1e3d2d-9920-4f0b-ec54-e43ff49c2320"
      },
      "source": [
        "m,n=map(int,input().split())\n",
        "print((m*n)//2)"
      ],
      "execution_count": null,
      "outputs": [
        {
          "output_type": "stream",
          "name": "stdout",
          "text": [
            "3 3\n",
            "4\n"
          ]
        }
      ]
    },
    {
      "cell_type": "markdown",
      "metadata": {
        "id": "AEAsAf_E6L1F"
      },
      "source": [
        " A+B"
      ]
    },
    {
      "cell_type": "code",
      "metadata": {
        "colab": {
          "base_uri": "https://localhost:8080/"
        },
        "id": "DiXxeA8X6Ntv",
        "outputId": "575fb408-16aa-45cd-e139-db538e2b10e3"
      },
      "source": [
        "n=int(input(\"\"))\n",
        "for i in range(1,n+1):\n",
        "  a,b=map(int,input().split())\n",
        "  print(a+b)  "
      ],
      "execution_count": null,
      "outputs": [
        {
          "output_type": "stream",
          "name": "stdout",
          "text": [
            "2\n",
            "1 5\n",
            "6\n",
            "-99 99\n",
            "0\n"
          ]
        }
      ]
    }
  ]
}