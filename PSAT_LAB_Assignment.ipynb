{
  "nbformat": 4,
  "nbformat_minor": 0,
  "metadata": {
    "colab": {
      "name": "PSAT LAB Assignment.ipynb",
      "provenance": [],
      "collapsed_sections": [],
      "authorship_tag": "ABX9TyN08gAooFliNVz8B9Q80Diy",
      "include_colab_link": true
    },
    "kernelspec": {
      "name": "python3",
      "display_name": "Python 3"
    },
    "language_info": {
      "name": "python"
    }
  },
  "cells": [
    {
      "cell_type": "markdown",
      "metadata": {
        "id": "view-in-github",
        "colab_type": "text"
      },
      "source": [
        "<a href=\"https://colab.research.google.com/github/StuntStorm/Amrita-/blob/main/PSAT_LAB_Assignment.ipynb\" target=\"_parent\"><img src=\"https://colab.research.google.com/assets/colab-badge.svg\" alt=\"Open In Colab\"/></a>"
      ]
    },
    {
      "cell_type": "markdown",
      "metadata": {
        "id": "uSGJco-QAB5L"
      },
      "source": [
        "Print the multiplication Table of the given Number"
      ]
    },
    {
      "cell_type": "code",
      "metadata": {
        "colab": {
          "base_uri": "https://localhost:8080/"
        },
        "id": "jO1KoVmN_4UH",
        "outputId": "9a8bac90-27de-4d45-e660-1c263b231604"
      },
      "source": [
        "\n",
        "n=int(input(\"Enter Value : \"))\n",
        "for i in range(1,11):\n",
        "  print(n*i)\n"
      ],
      "execution_count": null,
      "outputs": [
        {
          "output_type": "stream",
          "name": "stdout",
          "text": [
            "Enter Value : 2\n",
            "2\n",
            "4\n",
            "6\n",
            "8\n",
            "10\n",
            "12\n",
            "14\n",
            "16\n",
            "18\n",
            "20\n"
          ]
        }
      ]
    },
    {
      "cell_type": "markdown",
      "metadata": {
        "id": "Zht3wvx4BnrK"
      },
      "source": [
        "Given a list iterate it and display numbers which are divisible by 5 and if you find number greater than 150 stop the loop iteration\n",
        "\n",
        "list1 = [12,15,32,42,55,75,122,132,150,180,200]"
      ]
    },
    {
      "cell_type": "code",
      "metadata": {
        "colab": {
          "base_uri": "https://localhost:8080/"
        },
        "id": "57RW6Wi_CBfP",
        "outputId": "50f48e23-deec-4d3a-a268-6bfd898b4efe"
      },
      "source": [
        "list1 = [12,15,32,42,55,75,122,132,150,180,200]\n",
        "for i in list1:\n",
        "    if i%5==0 and i<=150:\n",
        "      print(i)\n",
        "    else:\n",
        "      continue\n",
        "    "
      ],
      "execution_count": null,
      "outputs": [
        {
          "output_type": "stream",
          "name": "stdout",
          "text": [
            "15\n",
            "55\n",
            "75\n",
            "150\n"
          ]
        }
      ]
    },
    {
      "cell_type": "markdown",
      "metadata": {
        "id": "ZFBeMMDqDyCp"
      },
      "source": [
        "Display done when successfull."
      ]
    },
    {
      "cell_type": "code",
      "metadata": {
        "colab": {
          "base_uri": "https://localhost:8080/"
        },
        "id": "UStaQ8dGD16p",
        "outputId": "fffc8700-562d-492e-d456-66e5228e501e"
      },
      "source": [
        "for i in range(5):\n",
        "  print(i)\n",
        "print(\"Done\")"
      ],
      "execution_count": null,
      "outputs": [
        {
          "output_type": "stream",
          "name": "stdout",
          "text": [
            "0\n",
            "1\n",
            "2\n",
            "3\n",
            "4\n",
            "Done\n"
          ]
        }
      ]
    },
    {
      "cell_type": "markdown",
      "metadata": {
        "id": "RJT6uOLAEBsn"
      },
      "source": [
        "Display the Fibonacci Series upto 10"
      ]
    },
    {
      "cell_type": "code",
      "metadata": {
        "colab": {
          "base_uri": "https://localhost:8080/"
        },
        "id": "To2wWDNGEH5A",
        "outputId": "3e657f67-d1dd-4516-c58c-10dd48849326"
      },
      "source": [
        "n = 10\n",
        "fb = [0,1]\n",
        "\n",
        "if N>2:\n",
        "\tfor i in range(2, n):\n",
        "\t\te = fb[i-1] + fb[i-2]\n",
        "\t\tfb.append(e)\n",
        "print(fb)"
      ],
      "execution_count": null,
      "outputs": [
        {
          "output_type": "stream",
          "name": "stdout",
          "text": [
            "[0, 1, 1, 2, 3, 5, 8, 13, 21, 34]\n"
          ]
        }
      ]
    },
    {
      "cell_type": "markdown",
      "metadata": {
        "id": "Ius-tcLJFM1I"
      },
      "source": [
        "Use Loop to display the element from a given list at even position\n",
        "\n",
        "list = [10, 20, 30, 40, 50, 60, 70, 80, 90, 100]"
      ]
    },
    {
      "cell_type": "code",
      "metadata": {
        "colab": {
          "base_uri": "https://localhost:8080/"
        },
        "id": "btIZULjjFdAX",
        "outputId": "6d206334-cfa8-4eba-e516-510f6177a7bd"
      },
      "source": [
        "list = [10, 20, 30, 40, 50, 60, 70, 80, 90, 100]\n",
        "for i in list[::-2]:\n",
        "    \n",
        "    print(i)\n",
        "      "
      ],
      "execution_count": null,
      "outputs": [
        {
          "output_type": "stream",
          "name": "stdout",
          "text": [
            "100\n",
            "80\n",
            "60\n",
            "40\n",
            "20\n"
          ]
        }
      ]
    },
    {
      "cell_type": "markdown",
      "metadata": {
        "id": "jgSI7ZwAHWBI"
      },
      "source": [
        "Display the cube of the given integer"
      ]
    },
    {
      "cell_type": "code",
      "metadata": {
        "colab": {
          "base_uri": "https://localhost:8080/"
        },
        "id": "h3cFx3WOHYNQ",
        "outputId": "b1916201-2180-4de1-8d73-b60874c1f79f"
      },
      "source": [
        "sum = 0\n",
        "n=int(input(\"input_number : \"))\n",
        "for i in range(1,n+1):\n",
        "  sum=i**3\n",
        "  print(\"Current Number is :\",i,\"and the cube is\",sum)\n"
      ],
      "execution_count": null,
      "outputs": [
        {
          "output_type": "stream",
          "name": "stdout",
          "text": [
            "input_number : 6\n",
            "Current Number is : 1 and the cube is 1\n",
            "Current Number is : 2 and the cube is 8\n",
            "Current Number is : 3 and the cube is 27\n",
            "Current Number is : 4 and the cube is 64\n",
            "Current Number is : 5 and the cube is 125\n",
            "Current Number is : 6 and the cube is 216\n"
          ]
        }
      ]
    },
    {
      "cell_type": "markdown",
      "metadata": {
        "id": "aYL23xyXI9Bx"
      },
      "source": [
        "Find the Sum of 2 + 22 + 222 + 2222 + 22222 + ..n terms"
      ]
    },
    {
      "cell_type": "code",
      "metadata": {
        "colab": {
          "base_uri": "https://localhost:8080/"
        },
        "id": "9opjCNrMJJPh",
        "outputId": "1e6e963d-c860-4df2-e605-72d88da5bd3d"
      },
      "source": [
        "n= int(input(\"number_of_terms : \"))\n",
        "sum=0\n",
        "for i in range (1,n+1):\n",
        "    e=eval('2'*i)\n",
        "    sum+=e\n",
        "print(sum)"
      ],
      "execution_count": null,
      "outputs": [
        {
          "output_type": "stream",
          "name": "stdout",
          "text": [
            "number_of_terms : 10\n",
            "2469135800\n"
          ]
        }
      ]
    },
    {
      "cell_type": "markdown",
      "metadata": {
        "id": "U4Z75IDCKBNy"
      },
      "source": [
        "Display -10 to -1 using loop"
      ]
    },
    {
      "cell_type": "code",
      "metadata": {
        "colab": {
          "base_uri": "https://localhost:8080/"
        },
        "id": "5M8JZPaTKE_Q",
        "outputId": "700db1ae-db2c-440a-dc32-bc1ee33be445"
      },
      "source": [
        "for i in range(-10,0):\n",
        "  print(i)"
      ],
      "execution_count": null,
      "outputs": [
        {
          "output_type": "stream",
          "name": "stdout",
          "text": [
            "-10\n",
            "-9\n",
            "-8\n",
            "-7\n",
            "-6\n",
            "-5\n",
            "-4\n",
            "-3\n",
            "-2\n",
            "-1\n"
          ]
        }
      ]
    },
    {
      "cell_type": "markdown",
      "metadata": {
        "id": "3ttr32qhKMEY"
      },
      "source": [
        "Python program to display all the prime numbers within a range"
      ]
    },
    {
      "cell_type": "code",
      "metadata": {
        "colab": {
          "base_uri": "https://localhost:8080/"
        },
        "id": "wfvHe5wzKn3J",
        "outputId": "5471cf04-bd7b-474b-cb59-d5af152a663e"
      },
      "source": [
        "x = int(input(\"start = \"))\n",
        "y = int(input(\"end = \"))\n",
        "\n",
        "print(\"Prime numbers between\",x,\"and\",y,\"are : \")\n",
        "for n in range(x, y + 1):\n",
        "   if n > 1:\n",
        "       for i in range(2, n):\n",
        "           if (n%i) == 0:\n",
        "               break\n",
        "       else:\n",
        "           print(n)"
      ],
      "execution_count": null,
      "outputs": [
        {
          "output_type": "stream",
          "name": "stdout",
          "text": [
            "start = 25\n",
            "end = 50\n",
            "Prime numbers between 25 and 50 are : \n",
            "29\n",
            "31\n",
            "37\n",
            "41\n",
            "43\n",
            "47\n"
          ]
        }
      ]
    },
    {
      "cell_type": "markdown",
      "metadata": {
        "id": "2pOTkqzvL0VR"
      },
      "source": [
        "Reverse a given integer number"
      ]
    },
    {
      "cell_type": "code",
      "metadata": {
        "colab": {
          "base_uri": "https://localhost:8080/"
        },
        "id": "EhCMxeYiL25I",
        "outputId": "d87879af-caad-4f24-db6c-e99741c6efc4"
      },
      "source": [
        "n = int(input())\n",
        "print(str(n)[::-1])"
      ],
      "execution_count": null,
      "outputs": [
        {
          "output_type": "stream",
          "name": "stdout",
          "text": [
            "76542\n",
            "24567\n"
          ]
        }
      ]
    }
  ]
}