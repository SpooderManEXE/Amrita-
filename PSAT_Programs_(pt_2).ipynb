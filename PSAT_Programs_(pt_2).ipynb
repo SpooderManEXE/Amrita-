{
  "nbformat": 4,
  "nbformat_minor": 0,
  "metadata": {
    "colab": {
      "name": "PSAT pt 3.ipynb",
      "provenance": [],
      "authorship_tag": "ABX9TyMvL28R+SrF7moNtqCzJjjn",
      "include_colab_link": true
    },
    "kernelspec": {
      "name": "python3",
      "display_name": "Python 3"
    },
    "language_info": {
      "name": "python"
    }
  },
  "cells": [
    {
      "cell_type": "markdown",
      "metadata": {
        "id": "view-in-github",
        "colab_type": "text"
      },
      "source": [
        "<a href=\"https://colab.research.google.com/github/StuntStorm/Amrita-/blob/main/PSAT_Programs_(pt_2).ipynb\" target=\"_parent\"><img src=\"https://colab.research.google.com/assets/colab-badge.svg\" alt=\"Open In Colab\"/></a>"
      ]
    },
    {
      "cell_type": "markdown",
      "metadata": {
        "id": "GiHTCNgNC-Nq"
      },
      "source": [
        "# Introduction to For Loop\n",
        "\n",
        "\n",
        "\n"
      ]
    },
    {
      "cell_type": "code",
      "metadata": {
        "colab": {
          "base_uri": "https://localhost:8080/"
        },
        "id": "4njawln0B0bl",
        "outputId": "ab54ca22-aece-4b98-e0ab-70b617158674"
      },
      "source": [
        "for i in 'hello':\n",
        "  print(i)"
      ],
      "execution_count": 1,
      "outputs": [
        {
          "output_type": "stream",
          "name": "stdout",
          "text": [
            "h\n",
            "e\n",
            "l\n",
            "l\n",
            "o\n"
          ]
        }
      ]
    },
    {
      "cell_type": "code",
      "metadata": {
        "colab": {
          "base_uri": "https://localhost:8080/"
        },
        "id": "UECmtUrEC2yr",
        "outputId": "f126e7f5-7165-402b-895d-0a41ff8a72b8"
      },
      "source": [
        "for i in range(5,8):\n",
        "  print(i,i**2)"
      ],
      "execution_count": 2,
      "outputs": [
        {
          "output_type": "stream",
          "name": "stdout",
          "text": [
            "5 25\n",
            "6 36\n",
            "7 49\n"
          ]
        }
      ]
    },
    {
      "cell_type": "markdown",
      "metadata": {
        "id": "RhEal4TdDiVk"
      },
      "source": [
        "Decreasing Sequences"
      ]
    },
    {
      "cell_type": "code",
      "metadata": {
        "colab": {
          "base_uri": "https://localhost:8080/"
        },
        "id": "9W1hXP00Dne4",
        "outputId": "d4b03bad-6679-4b00-aa16-01baadcfa15f"
      },
      "source": [
        "for i in range(10,0,-2):\n",
        "  print(i)"
      ],
      "execution_count": 3,
      "outputs": [
        {
          "output_type": "stream",
          "name": "stdout",
          "text": [
            "10\n",
            "8\n",
            "6\n",
            "4\n",
            "2\n"
          ]
        }
      ]
    },
    {
      "cell_type": "code",
      "metadata": {
        "colab": {
          "base_uri": "https://localhost:8080/"
        },
        "id": "0uJePdlMD8Sw",
        "outputId": "9c710081-5657-48e0-af95-53851e1fe93f"
      },
      "source": [
        "for i in range(3,7):\n",
        "  print(\"hello,world\")"
      ],
      "execution_count": 5,
      "outputs": [
        {
          "output_type": "stream",
          "name": "stdout",
          "text": [
            "hello,world\n",
            "hello,world\n",
            "hello,world\n",
            "hello,world\n"
          ]
        }
      ]
    },
    {
      "cell_type": "code",
      "metadata": {
        "colab": {
          "base_uri": "https://localhost:8080/"
        },
        "id": "j4ddrUciEZro",
        "outputId": "0177169c-d5e9-4a83-d7cb-f1cb1429fe25"
      },
      "source": [
        "for i in range(10,3,-1):\n",
        "  print(i)"
      ],
      "execution_count": 6,
      "outputs": [
        {
          "output_type": "stream",
          "name": "stdout",
          "text": [
            "10\n",
            "9\n",
            "8\n",
            "7\n",
            "6\n",
            "5\n",
            "4\n"
          ]
        }
      ]
    },
    {
      "cell_type": "markdown",
      "metadata": {
        "id": "FOsXaPiMFPZT"
      },
      "source": [
        "To print even number"
      ]
    },
    {
      "cell_type": "code",
      "metadata": {
        "colab": {
          "base_uri": "https://localhost:8080/"
        },
        "id": "aN3_f4MQFRSR",
        "outputId": "347f9082-9973-4ac4-e8fb-7f8e10ab22eb"
      },
      "source": [
        "n = 2\n",
        "for i in range(1,11):\n",
        "  p = n*i\n",
        "  print(p)"
      ],
      "execution_count": 23,
      "outputs": [
        {
          "output_type": "stream",
          "name": "stdout",
          "text": [
            "2\n",
            "4\n",
            "6\n",
            "8\n",
            "10\n",
            "12\n",
            "14\n",
            "16\n",
            "18\n",
            "20\n"
          ]
        }
      ]
    },
    {
      "cell_type": "markdown",
      "metadata": {
        "id": "fXVM_BMXFm_o"
      },
      "source": [
        "To print odd number"
      ]
    },
    {
      "cell_type": "code",
      "metadata": {
        "colab": {
          "base_uri": "https://localhost:8080/"
        },
        "id": "fD_chDZuFoe5",
        "outputId": "2ab60b2e-c2a5-4315-f5f5-f2de7c88b0aa"
      },
      "source": [
        "n = 1\n",
        "for i in range(1,11,2):\n",
        "  p = n*i\n",
        "  print(p)"
      ],
      "execution_count": 22,
      "outputs": [
        {
          "output_type": "stream",
          "name": "stdout",
          "text": [
            "1\n",
            "3\n",
            "5\n",
            "7\n",
            "9\n"
          ]
        }
      ]
    },
    {
      "cell_type": "markdown",
      "metadata": {
        "id": "gdya4H0XF_iA"
      },
      "source": [
        "Sum of the Integers from 1 to n"
      ]
    },
    {
      "cell_type": "code",
      "metadata": {
        "colab": {
          "base_uri": "https://localhost:8080/"
        },
        "id": "FIu5_n9CGDOA",
        "outputId": "5ab33e76-a7d4-4eaa-abaa-003cd9edefe0"
      },
      "source": [
        "sum = 0\n",
        "n=5\n",
        "for i in range(1,n+1):\n",
        "  sum+=i\n",
        "  print(sum)"
      ],
      "execution_count": 12,
      "outputs": [
        {
          "output_type": "stream",
          "name": "stdout",
          "text": [
            "1\n",
            "3\n",
            "6\n",
            "10\n",
            "15\n"
          ]
        }
      ]
    },
    {
      "cell_type": "markdown",
      "metadata": {
        "id": "qqgCPX7tJf9s"
      },
      "source": [
        "Print the sum of Integers from 1 to 10"
      ]
    },
    {
      "cell_type": "code",
      "metadata": {
        "colab": {
          "base_uri": "https://localhost:8080/"
        },
        "id": "3PyXecpsJupk",
        "outputId": "d885feda-4e99-4a9d-9ce1-5f318423d28b"
      },
      "source": [
        "sum = 0\n",
        "for i in range(1,11):\n",
        "  sum+=i\n",
        "  print(sum)"
      ],
      "execution_count": 17,
      "outputs": [
        {
          "output_type": "stream",
          "name": "stdout",
          "text": [
            "1\n",
            "3\n",
            "6\n",
            "10\n",
            "15\n",
            "21\n",
            "28\n",
            "36\n",
            "45\n",
            "55\n"
          ]
        }
      ]
    }
  ]
}