{
  "nbformat": 4,
  "nbformat_minor": 0,
  "metadata": {
    "colab": {
      "name": "BCA PSAT W04.ipynb",
      "provenance": [],
      "collapsed_sections": [],
      "authorship_tag": "ABX9TyPLexxSBF3OXxDbMA/6LXJb",
      "include_colab_link": true
    },
    "kernelspec": {
      "name": "python3",
      "display_name": "Python 3"
    },
    "language_info": {
      "name": "python"
    }
  },
  "cells": [
    {
      "cell_type": "markdown",
      "metadata": {
        "id": "view-in-github",
        "colab_type": "text"
      },
      "source": [
        "<a href=\"https://colab.research.google.com/github/StuntStorm/Amrita-/blob/main/BCA_PSAT_W04.ipynb\" target=\"_parent\"><img src=\"https://colab.research.google.com/assets/colab-badge.svg\" alt=\"Open In Colab\"/></a>"
      ]
    },
    {
      "cell_type": "markdown",
      "metadata": {
        "id": "jggy_UtPuiLW"
      },
      "source": [
        "<br>\n",
        "&nbsp; <img src=\"https://www.amrita.edu/ahead/images/aheadlogosticky.svg\" alt=\"AMRITA AHEAD\" width=\"250\"> \n",
        "<table align=\"right\">\n",
        "  <td align=\"left\"><a href=\"https://colab.research.google.com/drive/1jZQ2k4t_jO-DF4ekyHkLAelEe5KoDwzI\">Prev: Strings in Python</a></td>\n",
        "  <td align=\"right\"><a href=\"https://colab.research.google.com/drive/1W3LjjmJj0kTjBUDx62PyUNFmJsMTjcfz\">Next: String built-in functions</a></td>\n",
        "</table>\n",
        "\n",
        "# **Week 4 - Lab 4.2 - Simple Exercises on Strings**\n",
        "\n",
        "For all the exercises mentioned below, write your program in the code segment just below the problem statement. Your program should print \"YES\" if the check succeeds (i.e. acceptable strings) and print \"NO\" otherwise."
      ]
    },
    {
      "cell_type": "markdown",
      "metadata": {
        "id": "d-87D5SiKVa8"
      },
      "source": [
        "\n",
        "1. Write a program that checks if the input string starts with char 'a'.<br>Accept a, amrita, ahead, algorithmic. Reject problem, solving, thinking."
      ]
    },
    {
      "cell_type": "code",
      "metadata": {
        "id": "AQGk6dznhViy",
        "colab": {
          "base_uri": "https://localhost:8080/"
        },
        "outputId": "2c6d5ad3-9152-4115-caf3-947222280a3a"
      },
      "source": [
        "text = input()\n",
        "if text[0] == 'a' :\n",
        "  print('YES')\n",
        "else :\n",
        "  print('NO')"
      ],
      "execution_count": null,
      "outputs": [
        {
          "output_type": "stream",
          "name": "stdout",
          "text": [
            "amrita\n",
            "YES\n"
          ]
        }
      ]
    },
    {
      "cell_type": "markdown",
      "metadata": {
        "id": "J5mebn_KJ3uy"
      },
      "source": [
        "2. Write a program that checks if the input string starts and ends with the same char.<br>Accept amrita, xerox. Reject ahead, loop."
      ]
    },
    {
      "cell_type": "code",
      "metadata": {
        "id": "3nMRVuKmhW1K",
        "colab": {
          "base_uri": "https://localhost:8080/"
        },
        "outputId": "ad2ac4dd-0100-4419-cef2-aeec49d16c1c"
      },
      "source": [
        "text = input()\n",
        "if text[0] == text[-1] :\n",
        "  print('YES')\n",
        "else :\n",
        "  print('NO')"
      ],
      "execution_count": null,
      "outputs": [
        {
          "output_type": "stream",
          "name": "stdout",
          "text": [
            "ahead\n",
            "NO\n"
          ]
        }
      ]
    },
    {
      "cell_type": "markdown",
      "metadata": {
        "id": "6KMz2seGJ0LK"
      },
      "source": [
        "3. Write a program that checks if the input string does not end with the same char it starts with.<br>Accept ahead, loop. Reject amrita, xerox."
      ]
    },
    {
      "cell_type": "code",
      "metadata": {
        "id": "RUD0t6sGhX4I",
        "colab": {
          "base_uri": "https://localhost:8080/"
        },
        "outputId": "a37b2e3a-c7db-41c3-a552-85e0e332bffc"
      },
      "source": [
        "text = input()\n",
        "if text[0] == text[-1] :\n",
        "  print('NO')\n",
        "else :\n",
        "  print('YES')"
      ],
      "execution_count": null,
      "outputs": [
        {
          "output_type": "stream",
          "name": "stdout",
          "text": [
            "ahead\n",
            "Yes\n"
          ]
        }
      ]
    },
    {
      "cell_type": "markdown",
      "metadata": {
        "id": "BVXw_OpwJw5a"
      },
      "source": [
        "4. Write a program that checks if the input string contains at least one 'a'.<br>Accept amrita, ahead, algorithm, xyza. Reject problem, thinking."
      ]
    },
    {
      "cell_type": "code",
      "metadata": {
        "id": "b0U4vowxhZL4",
        "colab": {
          "base_uri": "https://localhost:8080/"
        },
        "outputId": "c4a207b9-a1c1-4d16-bfd7-8960b4cd5a4b"
      },
      "source": [
        "text=input()\n",
        "for i in text.lower():\n",
        "  if i=='a':\n",
        "    check=True\n",
        "    break\n",
        "  else:\n",
        "    check=False\n",
        "if check:\n",
        "  print(\"YES\")\n",
        "else:\n",
        "  print(\"NO\")\n"
      ],
      "execution_count": null,
      "outputs": [
        {
          "output_type": "stream",
          "name": "stdout",
          "text": [
            "xyza\n",
            "YES\n"
          ]
        }
      ]
    },
    {
      "cell_type": "markdown",
      "metadata": {
        "id": "wX_yhZMzJtMk"
      },
      "source": [
        "5. Write a program that checks if the input string contains exactly one a.<br>Accept algorithm, iteration. Reject amrita, ahead, problem."
      ]
    },
    {
      "cell_type": "code",
      "metadata": {
        "id": "ZiSjacDkhaGx",
        "colab": {
          "base_uri": "https://localhost:8080/"
        },
        "outputId": "346466f2-5571-41e4-f3d5-82ff499ead34"
      },
      "source": [
        "text=input()\n",
        "count=0\n",
        "for i in text.lower():\n",
        "  if i=='a':\n",
        "    count+=1\n",
        "if count==1:\n",
        "  print('YES')\n",
        "else:\n",
        "  print('NO')"
      ],
      "execution_count": null,
      "outputs": [
        {
          "output_type": "stream",
          "name": "stdout",
          "text": [
            "iteration\n",
            "YES\n"
          ]
        }
      ]
    },
    {
      "cell_type": "markdown",
      "metadata": {
        "id": "I5pn3SrMJpkq"
      },
      "source": [
        "6. Write a program that checks if the input string contains two consecutive e's.<br>Accept engineer, evergreen. Reject amrita, ahead, center."
      ]
    },
    {
      "cell_type": "code",
      "metadata": {
        "id": "J6aHc52Tha2w",
        "colab": {
          "base_uri": "https://localhost:8080/"
        },
        "outputId": "61733e39-b460-463f-eed5-8fe68691bcba"
      },
      "source": [
        "text=input().lower()\n",
        "for i in range(len(text)-1):\n",
        "  if text[i]=='e' and text[i+1]=='e':\n",
        "    check=True\n",
        "    break\n",
        "  else:\n",
        "    check=False\n",
        "if check:\n",
        "  print('YES')\n",
        "else:\n",
        "  print('NO')"
      ],
      "execution_count": null,
      "outputs": [
        {
          "output_type": "stream",
          "name": "stdout",
          "text": [
            "evergreen\n",
            "YES\n"
          ]
        }
      ]
    },
    {
      "cell_type": "markdown",
      "metadata": {
        "id": "OUYeRZ-iJmLa"
      },
      "source": [
        "7. Write a program that checks if the input string does not contain two consecutive e's.<br>Accept amrita, ahead, center. Reject see, meet. "
      ]
    },
    {
      "cell_type": "code",
      "metadata": {
        "id": "rIVP5YXRhbsh",
        "colab": {
          "base_uri": "https://localhost:8080/"
        },
        "outputId": "7d4000c6-5479-4d9f-fa1f-571a9548a62b"
      },
      "source": [
        "text=input().lower()\n",
        "for i in range(len(text)-1):\n",
        "  if text[i]=='e' and text[i+1]=='e':\n",
        "    check=True\n",
        "  else:\n",
        "    check=False\n",
        "if check:\n",
        "  print('NO')\n",
        "else:\n",
        "  print('YES')"
      ],
      "execution_count": null,
      "outputs": [
        {
          "output_type": "stream",
          "name": "stdout",
          "text": [
            "center\n",
            "YES\n"
          ]
        }
      ]
    },
    {
      "cell_type": "markdown",
      "metadata": {
        "id": "5dhfqsDcJijD"
      },
      "source": [
        "8. Write a program that checks if the input string contains at most two e's.<br>Accept amrita, ahead, center, green. Reject evergreen, ensemble."
      ]
    },
    {
      "cell_type": "code",
      "metadata": {
        "id": "rAI19HSUhcUA",
        "colab": {
          "base_uri": "https://localhost:8080/"
        },
        "outputId": "79d89357-19fd-496e-8ac6-992a2eeeaab7"
      },
      "source": [
        "text=input().lower()\n",
        "count=0\n",
        "for i in text:\n",
        "  if i=='e':\n",
        "    count+=1\n",
        "if count<=2:\n",
        "  print('YES')\n",
        "else:\n",
        "  print('NO')"
      ],
      "execution_count": null,
      "outputs": [
        {
          "output_type": "stream",
          "name": "stdout",
          "text": [
            "green\n",
            "YES\n"
          ]
        }
      ]
    },
    {
      "cell_type": "markdown",
      "metadata": {
        "id": "GFIvH_gyJb_s"
      },
      "source": [
        "9. Write a program that checks if the input string contains two u's and three b's.<br>Accept ububb, bubblegum. Reject umbrella, bubble, gum"
      ]
    },
    {
      "cell_type": "code",
      "metadata": {
        "id": "LzUxNjI2hdnR",
        "colab": {
          "base_uri": "https://localhost:8080/"
        },
        "outputId": "5159c53f-d23b-41c9-9973-74b9d0f866d8"
      },
      "source": [
        "text=input().lower()\n",
        "countu,countb=0,0\n",
        "for i in text:\n",
        "  if i=='u':\n",
        "    countu+=1\n",
        "  if i=='b':\n",
        "    countb+=1\n",
        "if countu==2 and countb==3:\n",
        "  print('YES')\n",
        "else:\n",
        "  print('NO')"
      ],
      "execution_count": null,
      "outputs": [
        {
          "output_type": "stream",
          "name": "stdout",
          "text": [
            "bubblegum\n",
            "YES\n"
          ]
        }
      ]
    },
    {
      "cell_type": "markdown",
      "metadata": {
        "id": "LPPk95QQJYQ6"
      },
      "source": [
        "10. Write a program that checks if the input string contains even number of e's.<br>Accept center, evergreen. Reject amrita, ahead, engineer."
      ]
    },
    {
      "cell_type": "code",
      "metadata": {
        "id": "ZI9BWUn6hedg",
        "colab": {
          "base_uri": "https://localhost:8080/"
        },
        "outputId": "fbf9ead5-ae2e-49df-9489-33bd12c6f2fc"
      },
      "source": [
        "text=input().lower()\n",
        "count=0\n",
        "for i in text:\n",
        "  if i=='e':\n",
        "    count+=1\n",
        "if count%2==0:\n",
        "  print('YES')\n",
        "else:\n",
        "  print('NO')"
      ],
      "execution_count": null,
      "outputs": [
        {
          "output_type": "stream",
          "name": "stdout",
          "text": [
            "center\n",
            "YES\n"
          ]
        }
      ]
    },
    {
      "cell_type": "markdown",
      "metadata": {
        "id": "GtJXT4DSJUt7"
      },
      "source": [
        "11. Write a program that checks if every e in the input string is followed by two s's.<br>Accept success, less, esspresso. Reject ahead, express."
      ]
    },
    {
      "cell_type": "code",
      "metadata": {
        "id": "pAYjGrg0hfHB",
        "colab": {
          "base_uri": "https://localhost:8080/"
        },
        "outputId": "5a02c436-a553-441f-d7e2-4d4f3178f50b"
      },
      "source": [
        "# Find the position where 'e' occurs. Check the next 2 positions \n",
        "text=input().lower()\n",
        "check=False\n",
        "for i in range(len(text)-2):\n",
        "  if text[i]=='e':\n",
        "    if text[i+1:i+3]!='ss':\n",
        "      check=False\n",
        "      break\n",
        "    else:\n",
        "      check=True\n",
        "if check:\n",
        "  print('YES')\n",
        "else:\n",
        "  print('NO')"
      ],
      "execution_count": null,
      "outputs": [
        {
          "output_type": "stream",
          "name": "stdout",
          "text": [
            "esspresso\n",
            "YES\n"
          ]
        }
      ]
    },
    {
      "cell_type": "markdown",
      "metadata": {
        "id": "iJRlbp8gJQxD"
      },
      "source": [
        "12. Write a program that checks if every e in the input string is preceded by two cc's.<br>Accept success. Reject excess."
      ]
    },
    {
      "cell_type": "code",
      "metadata": {
        "id": "RPYEY1bphf2y",
        "colab": {
          "base_uri": "https://localhost:8080/"
        },
        "outputId": "ea45e58a-52e9-46e9-b087-d510860e2820"
      },
      "source": [
        "text=input().lower()\n",
        "check=False\n",
        "for i in range(len(text)-2):\n",
        "  if text[i]=='e':\n",
        "    if text[i-2:i]!='cc':\n",
        "      check=False\n",
        "      break\n",
        "    else:\n",
        "      check=True\n",
        "if check:\n",
        "  print('YES')\n",
        "else:\n",
        "  print('NO')"
      ],
      "execution_count": null,
      "outputs": [
        {
          "output_type": "stream",
          "name": "stdout",
          "text": [
            "success\n",
            "YES\n"
          ]
        }
      ]
    },
    {
      "cell_type": "markdown",
      "metadata": {
        "id": "JcMvp5yxJMy7"
      },
      "source": [
        "13. Write a program that checks if every a in the input string is preceded by two b's and followed by three c's.<br>Accept bbaccc, xbbacccyzbbaccc. Reject bxbaccc, bbacc, baccc."
      ]
    },
    {
      "cell_type": "code",
      "metadata": {
        "id": "x2NLdJbfhgkj",
        "colab": {
          "base_uri": "https://localhost:8080/"
        },
        "outputId": "3b536150-998f-4e09-fe86-c06dcb6d15c5"
      },
      "source": [
        "text=input().lower()\n",
        "check=False\n",
        "for i in range(len(text)-2):\n",
        "  if text[i]=='a':\n",
        "    if text[i-2:i]!='bb' and text[i+1:i+3]!='ccc':\n",
        "      check=False\n",
        "      break\n",
        "    else:\n",
        "      check=True\n",
        "if check:\n",
        "  print('YES')\n",
        "else:\n",
        "  print('NO')"
      ],
      "execution_count": null,
      "outputs": [
        {
          "output_type": "stream",
          "name": "stdout",
          "text": [
            "xbbacccyzbbaccc\n",
            "YES\n"
          ]
        }
      ]
    },
    {
      "cell_type": "markdown",
      "metadata": {
        "id": "qGhf1Zx_JJAD"
      },
      "source": [
        "14. Write a program that checks if the input string of even length is a palindrome.<br>Accept amma, malayyalam. Reject ahead, malayalam."
      ]
    },
    {
      "cell_type": "code",
      "metadata": {
        "id": "7uDXV8NehhUB",
        "colab": {
          "base_uri": "https://localhost:8080/"
        },
        "outputId": "f7320124-035d-4e36-8ffc-bc59a587bbc6"
      },
      "source": [
        "text=input().lower()\n",
        "tlen=len(text)\n",
        "if tlen%2==0:\n",
        "  check=True\n",
        "  for i in range(tlen//2):\n",
        "    if text[i]!=text[-(i+1)]:\n",
        "      check=False\n",
        "  if check:\n",
        "    print('YES')\n",
        "  else:\n",
        "    print('NO')\n",
        "else:\n",
        "  print('NO')"
      ],
      "execution_count": null,
      "outputs": [
        {
          "output_type": "stream",
          "name": "stdout",
          "text": [
            "malayyalam\n",
            "YES\n"
          ]
        }
      ]
    },
    {
      "cell_type": "markdown",
      "metadata": {
        "id": "Ik56e8T-I6yR"
      },
      "source": [
        "15. Write a program that checks if the input string is a palindrome.<br>Accept amma, malayalam, redivider. Reject ahead."
      ]
    },
    {
      "cell_type": "code",
      "metadata": {
        "id": "U4fS1sebhiFJ",
        "colab": {
          "base_uri": "https://localhost:8080/"
        },
        "outputId": "12f01050-346d-41d2-f891-91221764aa69"
      },
      "source": [
        "text=input().lower()\n",
        "check=True\n",
        "for i in range(len(text)//2):\n",
        "  if text[i]!=text[-(i+1)]:\n",
        "    check=False\n",
        "if check:\n",
        "  print('YES')\n",
        "else:\n",
        "  print('NO')"
      ],
      "execution_count": null,
      "outputs": [
        {
          "output_type": "stream",
          "name": "stdout",
          "text": [
            "amma\n",
            "YES\n"
          ]
        }
      ]
    },
    {
      "cell_type": "markdown",
      "metadata": {
        "id": "-aamQxi2I04l"
      },
      "source": [
        "\n",
        "16. Write a program that counts and prints the number of vowels in the input string.<br>europe --> 4, amrita --> 3."
      ]
    },
    {
      "cell_type": "code",
      "metadata": {
        "id": "lKVdMQxmhiq5",
        "colab": {
          "base_uri": "https://localhost:8080/"
        },
        "outputId": "873e583c-b188-4c1b-e1a2-8910b3c5a544"
      },
      "source": [
        "text=input().lower()\n",
        "vowels=('a','e','i','o','u')\n",
        "count=0\n",
        "for i in text:\n",
        "  if i in vowels:\n",
        "    count+=1\n",
        "print(count)"
      ],
      "execution_count": null,
      "outputs": [
        {
          "output_type": "stream",
          "name": "stdout",
          "text": [
            "europe\n",
            "4\n"
          ]
        }
      ]
    },
    {
      "cell_type": "markdown",
      "metadata": {
        "id": "Y7I7vIItIwvs"
      },
      "source": [
        "17. Write a program that checks if the number of a's in the input string is equal to the number of b's.<br>Accept aaabbb, ababab, abcabcabc. Reject abacab, ahead."
      ]
    },
    {
      "cell_type": "code",
      "metadata": {
        "id": "vdqpeAPahjdx",
        "colab": {
          "base_uri": "https://localhost:8080/"
        },
        "outputId": "e5f4c7bc-82a9-47e9-cc89-d66e1c0f5b6a"
      },
      "source": [
        "text=input().lower()\n",
        "counta,countb=0,0\n",
        "for i in text:\n",
        "  if i=='a':\n",
        "    counta+=1\n",
        "  elif i=='b':\n",
        "    countb+=1\n",
        "if counta==countb:\n",
        "  print('YES')\n",
        "else:\n",
        "  print('NO')"
      ],
      "execution_count": null,
      "outputs": [
        {
          "output_type": "stream",
          "name": "stdout",
          "text": [
            "abcabcabc\n",
            "YES\n"
          ]
        }
      ]
    },
    {
      "cell_type": "markdown",
      "metadata": {
        "id": "m7Ldyt5EIjVp"
      },
      "source": [
        "18. Write a program that checks (i) if the input string length is even, it should contain exactly two vowels (ii) if length is odd, it should contain odd number of vowels.<br>Accept team, tiktok, ahead. Reject amrita, online, graduate."
      ]
    },
    {
      "cell_type": "code",
      "metadata": {
        "id": "gWkXvaOMhkPz",
        "colab": {
          "base_uri": "https://localhost:8080/"
        },
        "outputId": "7ca7d37b-6418-4113-c790-a6c031323cf8"
      },
      "source": [
        "text=input().lower()\n",
        "tlen=len(text)\n",
        "vowels=('a','e','i','o','u')\n",
        "if tlen%2==0:\n",
        "  count=0\n",
        "  for i in text:\n",
        "    if i in vowels:\n",
        "      count+=1\n",
        "  if count==2:\n",
        "    print('YES')\n",
        "  else:\n",
        "    print('NO')\n",
        "else:\n",
        "  count=0\n",
        "  for i in text:\n",
        "    if i in vowels:\n",
        "      count+=1\n",
        "  if count%2==1:\n",
        "    print('YES')\n",
        "  else:\n",
        "    print('NO')"
      ],
      "execution_count": null,
      "outputs": [
        {
          "output_type": "stream",
          "name": "stdout",
          "text": [
            "team\n",
            "YES\n"
          ]
        }
      ]
    },
    {
      "cell_type": "markdown",
      "metadata": {
        "id": "W0_TUVOCIfB7"
      },
      "source": [
        "19. Write a program that checks if two input strings are same.<br> Accept [amrita,amrita], [ahead,ahead]. Reject [amrita,ahead]."
      ]
    },
    {
      "cell_type": "code",
      "metadata": {
        "id": "jOhNu0M9hlSi",
        "colab": {
          "base_uri": "https://localhost:8080/"
        },
        "outputId": "a3752a6c-5b22-405b-d881-7fe2d3175df8"
      },
      "source": [
        "l=list(input()[1:-1].split(','))\n",
        "text1=l[0]\n",
        "text2=l[1]\n",
        "if text1==text2:\n",
        "  print('YES')\n",
        "else:\n",
        "  print('NO')"
      ],
      "execution_count": null,
      "outputs": [
        {
          "output_type": "stream",
          "name": "stdout",
          "text": [
            "[ahead,ahead]\n",
            "YES\n"
          ]
        }
      ]
    },
    {
      "cell_type": "markdown",
      "metadata": {
        "id": "hDaDuEgWIGYV"
      },
      "source": [
        "20. Write a program that checks if two input strings are anagrams.<br>Accept [trace,react], [dealer,leader]. Reject [amrita,ahead]"
      ]
    },
    {
      "cell_type": "code",
      "metadata": {
        "id": "3w3618F4hmrR",
        "colab": {
          "base_uri": "https://localhost:8080/"
        },
        "outputId": "f66433ff-9205-4835-a206-6b38c934b134"
      },
      "source": [
        "l=list(input()[1:-1].split(','))\n",
        "text1=''.join(sorted(l[0]))\n",
        "text2=''.join(sorted(l[1]))\n",
        "if text1==text2:\n",
        "  print('YES')\n",
        "else:\n",
        "  print('NO')"
      ],
      "execution_count": null,
      "outputs": [
        {
          "output_type": "stream",
          "name": "stdout",
          "text": [
            "[dealer,leader]\n",
            "YES\n"
          ]
        }
      ]
    }
  ]
}